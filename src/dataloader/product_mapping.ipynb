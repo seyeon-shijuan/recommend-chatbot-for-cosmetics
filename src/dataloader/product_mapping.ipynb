{
 "cells": [
  {
   "cell_type": "code",
   "execution_count": 2,
   "metadata": {},
   "outputs": [],
   "source": [
    "import re\n",
    "import pandas as pd\n",
    "\n",
    "def normalize_brand(brand_string):\n",
    "    normalized_brand = re.sub(r'\\[.*?\\]|\\(.*?\\)', '', brand_string).strip().replace(\"  \", \" \")\n",
    "    return normalized_brand\n",
    "\n",
    "def preprocess_product_name(df) -> pd.DataFrame:\n",
    "\n",
    "    df['product_name'] = df['product_name'].apply(normalize_brand)\n",
    "\n",
    "    d = pd.DataFrame(df['product_name'].value_counts()).reset_index()\n",
    "    d['split'] = d['product_name'].apply(lambda x: x.split(' '))\n",
    "\n",
    "    def split_list(s_list):\n",
    "        for idx, values in enumerate(s_list):\n",
    "            if ('ml' in values) | ('mL' in values) :\n",
    "                return idx \n",
    "            \n",
    "    d['ml_idx'] = d['split'].apply(split_list)\n",
    "\n",
    "    d = d.dropna()\n",
    "\n",
    "    def join_split_data(df):\n",
    "        result =  ' '.join(df['split'][:df['ml_idx']])\n",
    "        return result\n",
    "\n",
    "    d['ml_idx'] = d.loc[:,'ml_idx'].astype(int)\n",
    "\n",
    "    d['result'] = d.apply(join_split_data, axis =1 )\n",
    "\n",
    "    merge_df = pd.merge(df, d, on='product_name', how='right')\n",
    "\n",
    "    merge_df.drop(['count','split','ml_idx'], axis=1, inplace=True)\n",
    "\n",
    "    # 'brand' 열의 내용을 'result' 열 내용으로 바꾸기\n",
    "    merge_df['product_name'] = merge_df['result']\n",
    "\n",
    "    # 'result' 열 제거\n",
    "    df = merge_df.drop(['result'], axis=1)\n",
    "\n",
    "    return df\n"
   ]
  },
  {
   "cell_type": "code",
   "execution_count": 3,
   "metadata": {},
   "outputs": [
    {
     "name": "stdout",
     "output_type": "stream",
     "text": [
      "원본 데이터 사이즈: 817\n",
      "정제 데이터 사이즈: 691\n",
      "유효한 데이터 사이즈: 443\n",
      "443\n",
      "최종 전성분 및 이미지 정보 사이즈: 251\n"
     ]
    }
   ],
   "source": [
    "import pandas as pd\n",
    "\n",
    "df_review = pd.read_csv(\"../../resource/data/collabo_filtering_dataset2.csv\")\n",
    "\n",
    "def get_brand_id(text: str) -> int:\n",
    "    df_find = df_review[df_review[\"brand\"] == text]\n",
    "    if df_find.empty:\n",
    "        return -1\n",
    "    else: \n",
    "        brand_id = df_find[\"brand_id\"].iloc[0]\n",
    "        return brand_id\n",
    "\n",
    "df_ingredient_dataset = pd.read_csv(\"../../resource/data/제품데이터셋.csv\")\n",
    "\n",
    "print(f\"원본 데이터 사이즈: {len(df_ingredient_dataset)}\")\n",
    "\n",
    "df_ingredient_dataset = preprocess_product_name(df_ingredient_dataset)\n",
    "\n",
    "print(f\"정제 데이터 사이즈: {len(df_ingredient_dataset)}\")\n",
    "\n",
    "df_brand_ids = df_ingredient_dataset[\"product_name\"].apply(get_brand_id)\n",
    "valid_count = sum(df_brand_ids.values != -1)\n",
    "print(f\"유효한 데이터 사이즈: {valid_count}\")\n",
    "\n",
    "df_ingredient_dataset = df_ingredient_dataset.assign(brand_id=df_brand_ids)\n",
    "df_ingredient_dataset = df_ingredient_dataset[df_ingredient_dataset[\"brand_id\"] != -1]\n",
    "print(len(df_ingredient_dataset))\n",
    "\n",
    "df_ingredient_dataset = df_ingredient_dataset.drop_duplicates(subset=\"brand_id\", keep=\"first\")\n",
    "\n",
    "print(f\"최종 전성분 및 이미지 정보 사이즈: {len(df_ingredient_dataset)}\")\n",
    "\n",
    "df_ingredient_dataset.to_csv(\"../../resource/data/mapped_ingredient_dataset.csv\", index=False)"
   ]
  },
  {
   "cell_type": "code",
   "execution_count": 34,
   "metadata": {},
   "outputs": [
    {
     "name": "stdout",
     "output_type": "stream",
     "text": [
      "691\n",
      "448\n"
     ]
    }
   ],
   "source": [
    "df = pd.read_csv(\"../../resource/data/제품데이터셋.csv\")\n",
    "df = preprocess_product_name(df)\n",
    "print(len(df))\n",
    "print(len(df[\"product_name\"].unique()))"
   ]
  },
  {
   "cell_type": "code",
   "execution_count": 36,
   "metadata": {},
   "outputs": [
    {
     "data": {
      "text/plain": [
       "565"
      ]
     },
     "execution_count": 36,
     "metadata": {},
     "output_type": "execute_result"
    }
   ],
   "source": [
    "review = pd.read_csv(\"../../resource/data/collabo_filtering_dataset2.csv\")\n",
    "print(len(review))\n",
    "distinct_review = review.drop_duplicates(subset=\"brand\", keep=\"first\")\n",
    "len(distinct_review)"
   ]
  }
 ],
 "metadata": {
  "kernelspec": {
   "display_name": "ai2",
   "language": "python",
   "name": "python3"
  },
  "language_info": {
   "codemirror_mode": {
    "name": "ipython",
    "version": 3
   },
   "file_extension": ".py",
   "mimetype": "text/x-python",
   "name": "python",
   "nbconvert_exporter": "python",
   "pygments_lexer": "ipython3",
   "version": "3.11.4"
  }
 },
 "nbformat": 4,
 "nbformat_minor": 2
}
